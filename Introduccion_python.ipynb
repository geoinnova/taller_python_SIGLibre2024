{
  "nbformat": 4,
  "nbformat_minor": 0,
  "metadata": {
    "colab": {
      "provenance": [],
      "toc_visible": true
    },
    "kernelspec": {
      "name": "python3",
      "display_name": "Python 3"
    },
    "language_info": {
      "name": "python"
    }
  },
  "cells": [
    {
      "cell_type": "markdown",
      "source": [
        "#Introducción a Python\n",
        "\n",
        "- Tipos de variables\n",
        "- Tipos complejos\n",
        "  - Listas\n",
        "  - Tuplas\n",
        "  - Diccionarios\n",
        "- Función print()\n",
        "- Bucles y condicionales\n",
        "- Funciones y documentación (docstring)\n",
        "- Importación y uso de librerías"
      ],
      "metadata": {
        "id": "V3vX9Ta6ccmR"
      }
    },
    {
      "cell_type": "markdown",
      "source": [
        "### Tipos de variables\n",
        "\n",
        "En Python, hay varios tipos de variables comunes como enteros, flotantes, cadenas, y booleanos. [+info](https://docs.python.org/es/3/library/stdtypes.html#)"
      ],
      "metadata": {
        "id": "NgoGA056dQZ8"
      }
    },
    {
      "cell_type": "code",
      "source": [
        "# Enteros\n",
        "poblacion = 162034\n",
        "\n",
        "# Flotantes (decimal)\n",
        "latitud = 41.3851\n",
        "\n",
        "# Cadenas (textos)\n",
        "ciudad = \"Barcelona\"  # Nombre de la ciudad\n",
        "\n",
        "# Booleanos\n",
        "es_capital = True  # Barcelona es la capital de Cataluña\n"
      ],
      "metadata": {
        "id": "4KqFOUCpWR29"
      },
      "execution_count": null,
      "outputs": []
    },
    {
      "cell_type": "markdown",
      "source": [
        "### Tipos complejos (colecciones de datos)\n",
        "\n",
        "- Lista [ ]. Colección ordenada mutable de elementos que pueden ser de diferentes tipos.\n",
        "- Tupla ( ). Inmutables\n",
        "- Diccionario { }. Colección no ordenada de pares clave-valor. Cada clave en un diccionario es única y se utiliza para acceder a su valor correspondiente. Los diccionarios son mutables.\n",
        "\n",
        "[+info](https://docs.python.org/es/3/library/stdtypes.html#)"
      ],
      "metadata": {
        "id": "I0v4nShBdFZh"
      }
    },
    {
      "cell_type": "code",
      "source": [
        "\n",
        "coordenadas = [(41.3851, 2.1734), (41.9794, 2.8214), (41.6176, 0.6200)]\n",
        "\n",
        "superficies = (100, 255.5, 487)\n",
        "\n",
        "ciudad_info = {\n",
        "    \"nombre\": \"Girona\",\n",
        "    \"poblacion23\": 104038,\n",
        "    \"capital\": False\n",
        "}\n"
      ],
      "metadata": {
        "id": "iEGMUdFQW36J"
      },
      "execution_count": null,
      "outputs": []
    },
    {
      "cell_type": "markdown",
      "source": [
        "### Función print y f-strings\n",
        "\n",
        "La función print() se usa para mostrar información en la consola. Los f-strings permiten formatear cadenas de manera sencilla. [+info](https://docs.python.org/es/3/library/functions.html#print) [+info2](https://docs.python.org/es/3/reference/lexical_analysis.html#formatted-string-literals)"
      ],
      "metadata": {
        "id": "tuwDKgxxdgA6"
      }
    },
    {
      "cell_type": "code",
      "source": [
        "\n",
        "# La función print() muestra información en la consola\n",
        "\n",
        "# Usando print\n",
        "print(\"La ciudad es Girona.\")\n",
        "\n",
        "# Usando f-strings\n",
        "ciudad = \"Girona\"\n",
        "poblacion = 100270\n",
        "print(f\"La ciudad es {ciudad} y su población es {poblacion}.\")\n"
      ],
      "metadata": {
        "id": "HNjZtkwlWwFI"
      },
      "execution_count": null,
      "outputs": []
    },
    {
      "cell_type": "markdown",
      "source": [
        "## Bucles y condicionales\n",
        "\n",
        "Los bucles for y while son sentencias para para iterar sobre elementos.[+info](https://docs.python.org/es/3/reference/compound_stmts.html#index-6)\n",
        "\n",
        "Los condicionales if, elif, y else se usan para tomar decisiones basadas en condiciones. [+info](https://docs.python.org/es/3/reference/compound_stmts.html#index-3)"
      ],
      "metadata": {
        "id": "qE-5Sre2d4ye"
      }
    },
    {
      "cell_type": "code",
      "source": [
        "# Lista de ciudades\n",
        "ciudades = [\"Barcelona\", \"Girona\", \"Lleida\", \"Tarragona\"]\n",
        "\n",
        "# Bucle for para imprimir los nombres de las ciudades\n",
        "for ciudad in ciudades:\n",
        "    print(ciudad)\n",
        "\n",
        "# Bucle while para imprimir números del 1 al 5\n",
        "contador = 1\n",
        "while contador <= 5:\n",
        "    print(contador)\n",
        "    contador += 1\n",
        "\n",
        "# Condicional\n",
        "ciudad = \"Barcelona\"\n",
        "if ciudad == \"Barcelona\":\n",
        "    print(\"Esta ciudad es la capital de Cataluña.\")\n",
        "else:\n",
        "    print(\"Esta ciudad no es la capital de Cataluña.\")\n",
        "\n"
      ],
      "metadata": {
        "id": "uRmdRu2HWpEi"
      },
      "execution_count": null,
      "outputs": []
    },
    {
      "cell_type": "markdown",
      "source": [
        "## Funciones y docstrings\n",
        "\n",
        "Las funciones en Python se definen usando la palabra clave *def*.\n",
        "\n",
        "Los docstrings son cadenas de documentación que describen funciones, módulos o clases. [+info](https://docs.python.org/3/glossary.html#term-docstring)\n"
      ],
      "metadata": {
        "id": "9VSi9_KhePJX"
      }
    },
    {
      "cell_type": "code",
      "source": [
        "import math\n",
        "\n",
        "# def calculate_distance(coord1: tuple[float, float], coord2: tuple[float, float]) -> float:\n",
        "\n",
        "def calculate_distance(coord1, coord2):\n",
        "    \"\"\"\n",
        "    Calcula la distancia entre dos coordenadas geográficas usando la fórmula del haversine.\n",
        "\n",
        "    Parameters:\n",
        "    coord1 (tuple): Una tupla con la latitud y longitud del primer punto.\n",
        "    coord2 (tuple): Una tupla con la latitud y longitud del segundo punto.\n",
        "\n",
        "    Return:\n",
        "    float: La distancia en kilómetros entre los dos puntos.\n",
        "    \"\"\"\n",
        "\n",
        "    # Radio de la Tierra en kilómetros\n",
        "    R = 6371.0\n",
        "\n",
        "    lat1, lon1 = math.radians(coord1[0]), math.radians(coord1[1])\n",
        "    lat2, lon2 = math.radians(coord2[0]), math.radians(coord2[1])\n",
        "\n",
        "    dlon = lon2 - lon1\n",
        "    dlat = lat2 - lat1\n",
        "\n",
        "    a = math.sin(dlat / 2)**2 + math.cos(lat1) * math.cos(lat2) * math.sin(dlon / 2)**2\n",
        "    c = 2 * math.atan2(math.sqrt(a), math.sqrt(1 - a))\n",
        "\n",
        "    distance = R * c\n",
        "\n",
        "    return distance\n",
        "\n",
        "# Coordenadas de Barcelona y Girona\n",
        "coord_barcelona = (41.3851, 2.1734)\n",
        "coord_girona = (41.9794, 2.8214)\n",
        "\n",
        "# Calcular la distancia\n",
        "distancia = calculate_distance(coord_barcelona, coord_girona)\n",
        "print(f\"La distancia entre Barcelona y Girona es de {distancia:.2f} km.\")\n"
      ],
      "metadata": {
        "id": "OE_4Da-0WYGR",
        "colab": {
          "base_uri": "https://localhost:8080/"
        },
        "outputId": "c52bb890-4e63-4178-f671-5539f0e8d319"
      },
      "execution_count": null,
      "outputs": [
        {
          "output_type": "stream",
          "name": "stdout",
          "text": [
            "La distancia entre Barcelona y Girona es de 85.22 km.\n"
          ]
        }
      ]
    },
    {
      "cell_type": "markdown",
      "source": [
        "## Importación y uso de librerías\n",
        "\n",
        "Las librerías en Python se importan usando la palabra clave *import*."
      ],
      "metadata": {
        "id": "vm7su0egieKI"
      }
    },
    {
      "cell_type": "code",
      "source": [
        "import geopandas as gpd\n",
        "\n",
        "\n",
        "shapefile_path = 'https://raw.githubusercontent.com/geoinnova/taller_python_SIGLibre2024/master/datos/ciudades.geojson'\n",
        "\n",
        "# Crear (instanaciar) un (objeto) GeoDataFrame a partir del GeoJSON\n",
        "gdf = gpd.read_file(shapefile_path)\n",
        "\n",
        "# Mostrar las primeras filas del GeoDataFrame\n",
        "gdf\n"
      ],
      "metadata": {
        "colab": {
          "base_uri": "https://localhost:8080/",
          "height": 363
        },
        "id": "f3ibdHbXin_Z",
        "outputId": "b85540c1-e636-42ab-9ff6-e56dd082ed1d"
      },
      "execution_count": null,
      "outputs": [
        {
          "output_type": "execute_result",
          "data": {
            "text/plain": [
              "                        name  population                  geometry\n",
              "0                  Barcelona     1620343  POINT (2.17340 41.38506)\n",
              "1  L'Hospitalet de Llobregat      269009  POINT (2.11625 41.35992)\n",
              "2                   Badalona      223166  POINT (2.24503 41.44699)\n",
              "3                   Terrassa      223011  POINT (2.00887 41.56110)\n",
              "4                   Sabadell      215760  POINT (2.10938 41.54329)\n",
              "5                  Tarragona      135239  POINT (1.24449 41.11888)\n",
              "6                     Mataró      129166  POINT (2.44492 41.53811)\n",
              "7   Santa Coloma de Gramenet      119717  POINT (2.21032 41.45152)\n",
              "8                     Girona      101852  POINT (2.82143 41.97940)\n",
              "9                       Reus      104373  POINT (1.11441 41.15439)"
            ],
            "text/html": [
              "\n",
              "  <div id=\"df-4f5b96b0-3141-4352-aed5-8cdaa512b39b\" class=\"colab-df-container\">\n",
              "    <div>\n",
              "<style scoped>\n",
              "    .dataframe tbody tr th:only-of-type {\n",
              "        vertical-align: middle;\n",
              "    }\n",
              "\n",
              "    .dataframe tbody tr th {\n",
              "        vertical-align: top;\n",
              "    }\n",
              "\n",
              "    .dataframe thead th {\n",
              "        text-align: right;\n",
              "    }\n",
              "</style>\n",
              "<table border=\"1\" class=\"dataframe\">\n",
              "  <thead>\n",
              "    <tr style=\"text-align: right;\">\n",
              "      <th></th>\n",
              "      <th>name</th>\n",
              "      <th>population</th>\n",
              "      <th>geometry</th>\n",
              "    </tr>\n",
              "  </thead>\n",
              "  <tbody>\n",
              "    <tr>\n",
              "      <th>0</th>\n",
              "      <td>Barcelona</td>\n",
              "      <td>1620343</td>\n",
              "      <td>POINT (2.17340 41.38506)</td>\n",
              "    </tr>\n",
              "    <tr>\n",
              "      <th>1</th>\n",
              "      <td>L'Hospitalet de Llobregat</td>\n",
              "      <td>269009</td>\n",
              "      <td>POINT (2.11625 41.35992)</td>\n",
              "    </tr>\n",
              "    <tr>\n",
              "      <th>2</th>\n",
              "      <td>Badalona</td>\n",
              "      <td>223166</td>\n",
              "      <td>POINT (2.24503 41.44699)</td>\n",
              "    </tr>\n",
              "    <tr>\n",
              "      <th>3</th>\n",
              "      <td>Terrassa</td>\n",
              "      <td>223011</td>\n",
              "      <td>POINT (2.00887 41.56110)</td>\n",
              "    </tr>\n",
              "    <tr>\n",
              "      <th>4</th>\n",
              "      <td>Sabadell</td>\n",
              "      <td>215760</td>\n",
              "      <td>POINT (2.10938 41.54329)</td>\n",
              "    </tr>\n",
              "    <tr>\n",
              "      <th>5</th>\n",
              "      <td>Tarragona</td>\n",
              "      <td>135239</td>\n",
              "      <td>POINT (1.24449 41.11888)</td>\n",
              "    </tr>\n",
              "    <tr>\n",
              "      <th>6</th>\n",
              "      <td>Mataró</td>\n",
              "      <td>129166</td>\n",
              "      <td>POINT (2.44492 41.53811)</td>\n",
              "    </tr>\n",
              "    <tr>\n",
              "      <th>7</th>\n",
              "      <td>Santa Coloma de Gramenet</td>\n",
              "      <td>119717</td>\n",
              "      <td>POINT (2.21032 41.45152)</td>\n",
              "    </tr>\n",
              "    <tr>\n",
              "      <th>8</th>\n",
              "      <td>Girona</td>\n",
              "      <td>101852</td>\n",
              "      <td>POINT (2.82143 41.97940)</td>\n",
              "    </tr>\n",
              "    <tr>\n",
              "      <th>9</th>\n",
              "      <td>Reus</td>\n",
              "      <td>104373</td>\n",
              "      <td>POINT (1.11441 41.15439)</td>\n",
              "    </tr>\n",
              "  </tbody>\n",
              "</table>\n",
              "</div>\n",
              "    <div class=\"colab-df-buttons\">\n",
              "\n",
              "  <div class=\"colab-df-container\">\n",
              "    <button class=\"colab-df-convert\" onclick=\"convertToInteractive('df-4f5b96b0-3141-4352-aed5-8cdaa512b39b')\"\n",
              "            title=\"Convert this dataframe to an interactive table.\"\n",
              "            style=\"display:none;\">\n",
              "\n",
              "  <svg xmlns=\"http://www.w3.org/2000/svg\" height=\"24px\" viewBox=\"0 -960 960 960\">\n",
              "    <path d=\"M120-120v-720h720v720H120Zm60-500h600v-160H180v160Zm220 220h160v-160H400v160Zm0 220h160v-160H400v160ZM180-400h160v-160H180v160Zm440 0h160v-160H620v160ZM180-180h160v-160H180v160Zm440 0h160v-160H620v160Z\"/>\n",
              "  </svg>\n",
              "    </button>\n",
              "\n",
              "  <style>\n",
              "    .colab-df-container {\n",
              "      display:flex;\n",
              "      gap: 12px;\n",
              "    }\n",
              "\n",
              "    .colab-df-convert {\n",
              "      background-color: #E8F0FE;\n",
              "      border: none;\n",
              "      border-radius: 50%;\n",
              "      cursor: pointer;\n",
              "      display: none;\n",
              "      fill: #1967D2;\n",
              "      height: 32px;\n",
              "      padding: 0 0 0 0;\n",
              "      width: 32px;\n",
              "    }\n",
              "\n",
              "    .colab-df-convert:hover {\n",
              "      background-color: #E2EBFA;\n",
              "      box-shadow: 0px 1px 2px rgba(60, 64, 67, 0.3), 0px 1px 3px 1px rgba(60, 64, 67, 0.15);\n",
              "      fill: #174EA6;\n",
              "    }\n",
              "\n",
              "    .colab-df-buttons div {\n",
              "      margin-bottom: 4px;\n",
              "    }\n",
              "\n",
              "    [theme=dark] .colab-df-convert {\n",
              "      background-color: #3B4455;\n",
              "      fill: #D2E3FC;\n",
              "    }\n",
              "\n",
              "    [theme=dark] .colab-df-convert:hover {\n",
              "      background-color: #434B5C;\n",
              "      box-shadow: 0px 1px 3px 1px rgba(0, 0, 0, 0.15);\n",
              "      filter: drop-shadow(0px 1px 2px rgba(0, 0, 0, 0.3));\n",
              "      fill: #FFFFFF;\n",
              "    }\n",
              "  </style>\n",
              "\n",
              "    <script>\n",
              "      const buttonEl =\n",
              "        document.querySelector('#df-4f5b96b0-3141-4352-aed5-8cdaa512b39b button.colab-df-convert');\n",
              "      buttonEl.style.display =\n",
              "        google.colab.kernel.accessAllowed ? 'block' : 'none';\n",
              "\n",
              "      async function convertToInteractive(key) {\n",
              "        const element = document.querySelector('#df-4f5b96b0-3141-4352-aed5-8cdaa512b39b');\n",
              "        const dataTable =\n",
              "          await google.colab.kernel.invokeFunction('convertToInteractive',\n",
              "                                                    [key], {});\n",
              "        if (!dataTable) return;\n",
              "\n",
              "        const docLinkHtml = 'Like what you see? Visit the ' +\n",
              "          '<a target=\"_blank\" href=https://colab.research.google.com/notebooks/data_table.ipynb>data table notebook</a>'\n",
              "          + ' to learn more about interactive tables.';\n",
              "        element.innerHTML = '';\n",
              "        dataTable['output_type'] = 'display_data';\n",
              "        await google.colab.output.renderOutput(dataTable, element);\n",
              "        const docLink = document.createElement('div');\n",
              "        docLink.innerHTML = docLinkHtml;\n",
              "        element.appendChild(docLink);\n",
              "      }\n",
              "    </script>\n",
              "  </div>\n",
              "\n",
              "\n",
              "<div id=\"df-4ce6448b-3e2e-4b90-b357-2035859d1be4\">\n",
              "  <button class=\"colab-df-quickchart\" onclick=\"quickchart('df-4ce6448b-3e2e-4b90-b357-2035859d1be4')\"\n",
              "            title=\"Suggest charts\"\n",
              "            style=\"display:none;\">\n",
              "\n",
              "<svg xmlns=\"http://www.w3.org/2000/svg\" height=\"24px\"viewBox=\"0 0 24 24\"\n",
              "     width=\"24px\">\n",
              "    <g>\n",
              "        <path d=\"M19 3H5c-1.1 0-2 .9-2 2v14c0 1.1.9 2 2 2h14c1.1 0 2-.9 2-2V5c0-1.1-.9-2-2-2zM9 17H7v-7h2v7zm4 0h-2V7h2v10zm4 0h-2v-4h2v4z\"/>\n",
              "    </g>\n",
              "</svg>\n",
              "  </button>\n",
              "\n",
              "<style>\n",
              "  .colab-df-quickchart {\n",
              "      --bg-color: #E8F0FE;\n",
              "      --fill-color: #1967D2;\n",
              "      --hover-bg-color: #E2EBFA;\n",
              "      --hover-fill-color: #174EA6;\n",
              "      --disabled-fill-color: #AAA;\n",
              "      --disabled-bg-color: #DDD;\n",
              "  }\n",
              "\n",
              "  [theme=dark] .colab-df-quickchart {\n",
              "      --bg-color: #3B4455;\n",
              "      --fill-color: #D2E3FC;\n",
              "      --hover-bg-color: #434B5C;\n",
              "      --hover-fill-color: #FFFFFF;\n",
              "      --disabled-bg-color: #3B4455;\n",
              "      --disabled-fill-color: #666;\n",
              "  }\n",
              "\n",
              "  .colab-df-quickchart {\n",
              "    background-color: var(--bg-color);\n",
              "    border: none;\n",
              "    border-radius: 50%;\n",
              "    cursor: pointer;\n",
              "    display: none;\n",
              "    fill: var(--fill-color);\n",
              "    height: 32px;\n",
              "    padding: 0;\n",
              "    width: 32px;\n",
              "  }\n",
              "\n",
              "  .colab-df-quickchart:hover {\n",
              "    background-color: var(--hover-bg-color);\n",
              "    box-shadow: 0 1px 2px rgba(60, 64, 67, 0.3), 0 1px 3px 1px rgba(60, 64, 67, 0.15);\n",
              "    fill: var(--button-hover-fill-color);\n",
              "  }\n",
              "\n",
              "  .colab-df-quickchart-complete:disabled,\n",
              "  .colab-df-quickchart-complete:disabled:hover {\n",
              "    background-color: var(--disabled-bg-color);\n",
              "    fill: var(--disabled-fill-color);\n",
              "    box-shadow: none;\n",
              "  }\n",
              "\n",
              "  .colab-df-spinner {\n",
              "    border: 2px solid var(--fill-color);\n",
              "    border-color: transparent;\n",
              "    border-bottom-color: var(--fill-color);\n",
              "    animation:\n",
              "      spin 1s steps(1) infinite;\n",
              "  }\n",
              "\n",
              "  @keyframes spin {\n",
              "    0% {\n",
              "      border-color: transparent;\n",
              "      border-bottom-color: var(--fill-color);\n",
              "      border-left-color: var(--fill-color);\n",
              "    }\n",
              "    20% {\n",
              "      border-color: transparent;\n",
              "      border-left-color: var(--fill-color);\n",
              "      border-top-color: var(--fill-color);\n",
              "    }\n",
              "    30% {\n",
              "      border-color: transparent;\n",
              "      border-left-color: var(--fill-color);\n",
              "      border-top-color: var(--fill-color);\n",
              "      border-right-color: var(--fill-color);\n",
              "    }\n",
              "    40% {\n",
              "      border-color: transparent;\n",
              "      border-right-color: var(--fill-color);\n",
              "      border-top-color: var(--fill-color);\n",
              "    }\n",
              "    60% {\n",
              "      border-color: transparent;\n",
              "      border-right-color: var(--fill-color);\n",
              "    }\n",
              "    80% {\n",
              "      border-color: transparent;\n",
              "      border-right-color: var(--fill-color);\n",
              "      border-bottom-color: var(--fill-color);\n",
              "    }\n",
              "    90% {\n",
              "      border-color: transparent;\n",
              "      border-bottom-color: var(--fill-color);\n",
              "    }\n",
              "  }\n",
              "</style>\n",
              "\n",
              "  <script>\n",
              "    async function quickchart(key) {\n",
              "      const quickchartButtonEl =\n",
              "        document.querySelector('#' + key + ' button');\n",
              "      quickchartButtonEl.disabled = true;  // To prevent multiple clicks.\n",
              "      quickchartButtonEl.classList.add('colab-df-spinner');\n",
              "      try {\n",
              "        const charts = await google.colab.kernel.invokeFunction(\n",
              "            'suggestCharts', [key], {});\n",
              "      } catch (error) {\n",
              "        console.error('Error during call to suggestCharts:', error);\n",
              "      }\n",
              "      quickchartButtonEl.classList.remove('colab-df-spinner');\n",
              "      quickchartButtonEl.classList.add('colab-df-quickchart-complete');\n",
              "    }\n",
              "    (() => {\n",
              "      let quickchartButtonEl =\n",
              "        document.querySelector('#df-4ce6448b-3e2e-4b90-b357-2035859d1be4 button');\n",
              "      quickchartButtonEl.style.display =\n",
              "        google.colab.kernel.accessAllowed ? 'block' : 'none';\n",
              "    })();\n",
              "  </script>\n",
              "</div>\n",
              "    </div>\n",
              "  </div>\n"
            ],
            "application/vnd.google.colaboratory.intrinsic+json": {
              "type": "dataframe",
              "variable_name": "gdf",
              "summary": "{\n  \"name\": \"gdf\",\n  \"rows\": 10,\n  \"fields\": [\n    {\n      \"column\": \"name\",\n      \"properties\": {\n        \"dtype\": \"string\",\n        \"num_unique_values\": 10,\n        \"samples\": [\n          \"Girona\",\n          \"L'Hospitalet de Llobregat\",\n          \"Tarragona\"\n        ],\n        \"semantic_type\": \"\",\n        \"description\": \"\"\n      }\n    },\n    {\n      \"column\": \"population\",\n      \"properties\": {\n        \"dtype\": \"number\",\n        \"std\": 462787,\n        \"min\": 101852,\n        \"max\": 1620343,\n        \"num_unique_values\": 10,\n        \"samples\": [\n          101852,\n          269009,\n          135239\n        ],\n        \"semantic_type\": \"\",\n        \"description\": \"\"\n      }\n    },\n    {\n      \"column\": \"geometry\",\n      \"properties\": {\n        \"dtype\": \"geometry\",\n        \"num_unique_values\": 10,\n        \"samples\": [\n          \"POINT (2.821426 41.9794)\",\n          \"POINT (2.116245 41.35992)\",\n          \"POINT (1.24449 41.118883)\"\n        ],\n        \"semantic_type\": \"\",\n        \"description\": \"\"\n      }\n    }\n  ]\n}"
            }
          },
          "metadata": {},
          "execution_count": 4
        }
      ]
    },
    {
      "cell_type": "code",
      "source": [
        "type(gdf)"
      ],
      "metadata": {
        "colab": {
          "base_uri": "https://localhost:8080/",
          "height": 186
        },
        "id": "zu_5Uyhp8p1F",
        "outputId": "e88f6be7-ddab-4632-ffad-d4eb846ac8f8"
      },
      "execution_count": null,
      "outputs": [
        {
          "output_type": "execute_result",
          "data": {
            "text/plain": [
              "geopandas.geodataframe.GeoDataFrame"
            ],
            "text/html": [
              "<div style=\"max-width:800px; border: 1px solid var(--colab-border-color);\"><style>\n",
              "      pre.function-repr-contents {\n",
              "        overflow-x: auto;\n",
              "        padding: 8px 12px;\n",
              "        max-height: 500px;\n",
              "      }\n",
              "\n",
              "      pre.function-repr-contents.function-repr-contents-collapsed {\n",
              "        cursor: pointer;\n",
              "        max-height: 100px;\n",
              "      }\n",
              "    </style>\n",
              "    <pre style=\"white-space: initial; background:\n",
              "         var(--colab-secondary-surface-color); padding: 8px 12px;\n",
              "         border-bottom: 1px solid var(--colab-border-color);\"><b>geopandas.geodataframe.GeoDataFrame</b><br/>def __init__(data=None, *args, geometry=None, crs=None, **kwargs)</pre><pre class=\"function-repr-contents function-repr-contents-collapsed\" style=\"\"><a class=\"filepath\" style=\"display:none\" href=\"#\">/usr/local/lib/python3.10/dist-packages/geopandas/geodataframe.py</a>A GeoDataFrame object is a pandas.DataFrame that has a column\n",
              "with geometry. In addition to the standard DataFrame constructor arguments,\n",
              "GeoDataFrame also accepts the following keyword arguments:\n",
              "\n",
              "Parameters\n",
              "----------\n",
              "crs : value (optional)\n",
              "    Coordinate Reference System of the geometry objects. Can be anything accepted by\n",
              "    :meth:`pyproj.CRS.from_user_input() &lt;pyproj.crs.CRS.from_user_input&gt;`,\n",
              "    such as an authority string (eg &quot;EPSG:4326&quot;) or a WKT string.\n",
              "geometry : str or array (optional)\n",
              "    If str, column to use as geometry. If array, will be set as &#x27;geometry&#x27;\n",
              "    column on GeoDataFrame.\n",
              "\n",
              "Examples\n",
              "--------\n",
              "Constructing GeoDataFrame from a dictionary.\n",
              "\n",
              "&gt;&gt;&gt; from shapely.geometry import Point\n",
              "&gt;&gt;&gt; d = {&#x27;col1&#x27;: [&#x27;name1&#x27;, &#x27;name2&#x27;], &#x27;geometry&#x27;: [Point(1, 2), Point(2, 1)]}\n",
              "&gt;&gt;&gt; gdf = geopandas.GeoDataFrame(d, crs=&quot;EPSG:4326&quot;)\n",
              "&gt;&gt;&gt; gdf\n",
              "    col1                 geometry\n",
              "0  name1  POINT (1.00000 2.00000)\n",
              "1  name2  POINT (2.00000 1.00000)\n",
              "\n",
              "Notice that the inferred dtype of &#x27;geometry&#x27; columns is geometry.\n",
              "\n",
              "&gt;&gt;&gt; gdf.dtypes\n",
              "col1          object\n",
              "geometry    geometry\n",
              "dtype: object\n",
              "\n",
              "Constructing GeoDataFrame from a pandas DataFrame with a column of WKT geometries:\n",
              "\n",
              "&gt;&gt;&gt; import pandas as pd\n",
              "&gt;&gt;&gt; d = {&#x27;col1&#x27;: [&#x27;name1&#x27;, &#x27;name2&#x27;], &#x27;wkt&#x27;: [&#x27;POINT (1 2)&#x27;, &#x27;POINT (2 1)&#x27;]}\n",
              "&gt;&gt;&gt; df = pd.DataFrame(d)\n",
              "&gt;&gt;&gt; gs = geopandas.GeoSeries.from_wkt(df[&#x27;wkt&#x27;])\n",
              "&gt;&gt;&gt; gdf = geopandas.GeoDataFrame(df, geometry=gs, crs=&quot;EPSG:4326&quot;)\n",
              "&gt;&gt;&gt; gdf\n",
              "    col1          wkt                 geometry\n",
              "0  name1  POINT (1 2)  POINT (1.00000 2.00000)\n",
              "1  name2  POINT (2 1)  POINT (2.00000 1.00000)\n",
              "\n",
              "See also\n",
              "--------\n",
              "GeoSeries : Series object designed to store shapely geometry objects</pre>\n",
              "      <script>\n",
              "      if (google.colab.kernel.accessAllowed && google.colab.files && google.colab.files.view) {\n",
              "        for (const element of document.querySelectorAll('.filepath')) {\n",
              "          element.style.display = 'block'\n",
              "          element.onclick = (event) => {\n",
              "            event.preventDefault();\n",
              "            event.stopPropagation();\n",
              "            google.colab.files.view(element.textContent, 71);\n",
              "          };\n",
              "        }\n",
              "      }\n",
              "      for (const element of document.querySelectorAll('.function-repr-contents')) {\n",
              "        element.onclick = (event) => {\n",
              "          event.preventDefault();\n",
              "          event.stopPropagation();\n",
              "          element.classList.toggle('function-repr-contents-collapsed');\n",
              "        };\n",
              "      }\n",
              "      </script>\n",
              "      </div>"
            ]
          },
          "metadata": {},
          "execution_count": 7
        }
      ]
    },
    {
      "cell_type": "code",
      "source": [
        "# atributos\n",
        "gdf.crs"
      ],
      "metadata": {
        "colab": {
          "base_uri": "https://localhost:8080/"
        },
        "id": "M8pcMlcf9YBC",
        "outputId": "2958f0b8-7e0e-4c00-c475-f3b475883237"
      },
      "execution_count": null,
      "outputs": [
        {
          "output_type": "execute_result",
          "data": {
            "text/plain": [
              "<Geographic 2D CRS: EPSG:4326>\n",
              "Name: WGS 84\n",
              "Axis Info [ellipsoidal]:\n",
              "- Lat[north]: Geodetic latitude (degree)\n",
              "- Lon[east]: Geodetic longitude (degree)\n",
              "Area of Use:\n",
              "- name: World.\n",
              "- bounds: (-180.0, -90.0, 180.0, 90.0)\n",
              "Datum: World Geodetic System 1984 ensemble\n",
              "- Ellipsoid: WGS 84\n",
              "- Prime Meridian: Greenwich"
            ]
          },
          "metadata": {},
          "execution_count": 9
        }
      ]
    },
    {
      "cell_type": "code",
      "source": [
        "#métodos\n",
        "gdf.plot()"
      ],
      "metadata": {
        "colab": {
          "base_uri": "https://localhost:8080/",
          "height": 412
        },
        "id": "EWtQf2qDkMea",
        "outputId": "0b3ecb1d-249c-4ebf-a38e-4b74ba384474"
      },
      "execution_count": null,
      "outputs": [
        {
          "output_type": "execute_result",
          "data": {
            "text/plain": [
              "<Axes: >"
            ]
          },
          "metadata": {},
          "execution_count": 4
        },
        {
          "output_type": "display_data",
          "data": {
            "text/plain": [
              "<Figure size 640x480 with 1 Axes>"
            ],
            "image/png": "[encoded data removed]"
          },
          "metadata": {}
        }
      ]
    }
  ]
}